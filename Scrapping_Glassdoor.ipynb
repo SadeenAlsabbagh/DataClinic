{
  "nbformat": 4,
  "nbformat_minor": 0,
  "metadata": {
    "colab": {
      "provenance": []
    },
    "kernelspec": {
      "name": "python3",
      "display_name": "Python 3"
    },
    "language_info": {
      "name": "python"
    }
  },
  "cells": [
    {
      "cell_type": "code",
      "execution_count": null,
      "metadata": {
        "id": "gXOlce67uZMi"
      },
      "outputs": [],
      "source": [
        "from selenium import webdriver\n",
        "from selenium.webdriver.common.by import By\n",
        "from selenium.common.exceptions import NoSuchElementException\n",
        "from selenium.webdriver.common.action_chains import ActionChains\n",
        "from bs4 import BeautifulSoup as bs\n",
        "import mysql.connector\n",
        "import time"
      ]
    },
    {
      "cell_type": "code",
      "source": [
        "# Connect to MySQL database\n",
        "mydb = mysql.connector.connect(\n",
        "    host=\"database-1.cux1s0fa60hj.us-east-2.rds.amazonaws.com\",\n",
        "    user=\"admin\",\n",
        "    password=\"Lenovo2002\",\n",
        "    database=\"database-1\"\n",
        ")"
      ],
      "metadata": {
        "id": "8yoUwmyFyNRb"
      },
      "execution_count": null,
      "outputs": []
    },
    {
      "cell_type": "code",
      "source": [
        "# Define chrome_options\n",
        "chrome_options = webdriver.ChromeOptions()\n",
        "chrome_options.add_argument(\"executable_path=./chromedriver.exe\")"
      ],
      "metadata": {
        "id": "OwGQpaZTyNPG"
      },
      "execution_count": null,
      "outputs": []
    },
    {
      "cell_type": "code",
      "source": [
        "wd = webdriver.Chrome(options = chrome_options)\n",
        "time.sleep(1)\n",
        "wd.get(\"https://www.glassdoor.com/Job/united-states-sustainability-analyst-jobs-SRCH_IL.0,13_IN1_KO14,36.htm\")\n",
        "time.sleep(3)\n",
        "# Simulate a click anywhere on the screen\n",
        "action_chains = ActionChains(wd)\n",
        "action_chains.move_by_offset(100, 100).click().perform()"
      ],
      "metadata": {
        "id": "ZjGiSyMtyNMZ"
      },
      "execution_count": null,
      "outputs": []
    },
    {
      "cell_type": "code",
      "source": [
        "\n",
        "page_number = 1\n",
        "def glassdoor_scraper():\n",
        "    global page_number\n",
        "    jobs_src = wd.page_source\n",
        "    soup = bs(jobs_src, \"html.parser\")\n",
        "    jobs = soup.find_all(\"li\", class_ = \"react-job-listing css-108gl9c eigr9kq3\")\n",
        "\n",
        "    for job in jobs:\n",
        "        #JobId\n",
        "        job_id = job.get(\"data-id\")\n",
        "\n",
        "        #Check if the JobId already exists in the table\n",
        "        select_query = \"SELECT JobId FROM Marketing_Jobs WHERE JobId = %s\"\n",
        "        cursor.execute(select_query, (job_id,))\n",
        "        result = cursor.fetchone()\n",
        "\n",
        "        if result is None:\n",
        "            #Job Title\n",
        "            job_title = job.find(\"div\", class_ = \"job-title mt-xsm\").text.strip()\n",
        "\n",
        "            #Job Link\n",
        "            job_link = \"https://www.glassdoor.com\" + job.find(\"a\", class_ = \"d-flex justify-content-between p-std jobCard\")[\"href\"]\n",
        "\n",
        "            #Company Name\n",
        "            company_name_elem = job.find(\"div\", class_ = \"job-search-8wag7x\")\n",
        "            company_name = company_name_elem.get_text(strip = True, separator = \" \") if company_name_elem else \"\"\n",
        "            if \"★\" in company_name:\n",
        "                company_name = company_name.rsplit(\" \", 2)[0]\n",
        "\n",
        "            #Location\n",
        "            location = job.find(\"div\", class_ = \"location mt-xxsm\").text.strip()\n",
        "\n",
        "            driver = webdriver.Chrome(options = chrome_options)\n",
        "            time.sleep(1)\n",
        "            driver.get(job_link)\n",
        "            time.sleep(3)\n",
        "            job_src = driver.page_source\n",
        "            job_soup = bs(job_src, \"html.parser\")\n",
        "\n",
        "            #Salary\n",
        "            salary_elem = job_soup.find(\"span\", class_ = \"small css-10zcshf e1v3ed7e1\")\n",
        "            salary = salary_elem.text.strip() if salary_elem else \"\"\n",
        "            if \":\" in salary:\n",
        "                salary = salary.split(\":\")[1]\n",
        "            elif \"(\" in salary:\n",
        "                salary = salary.split(\"(\")[0]\n",
        "\n",
        "            #Job Description\n",
        "            job_des_elem = job_soup.find(\"div\", class_ = \"desc css-58vpdc ecgq1xb5\")\n",
        "            job_des = job_des_elem.text.strip() if job_des_elem else \"\"\n",
        "\n",
        "            #Insert the data into the MySQL table\n",
        "            insert_query = '''\n",
        "                INSERT INTO Marketing_Jobs (JobId, Title, Company, Location, Apply, Salary, JobDescription)\n",
        "                VALUES (%s, %s, %s, %s, %s, %s, %s)\n",
        "            '''\n",
        "            insert_values = (job_id, job_title, company_name, location, job_link, salary, job_des)\n",
        "            cursor.execute(insert_query, insert_values)\n",
        "            mydb.commit()\n",
        "            driver.quit()\n",
        "        else:\n",
        "            print(\"Skipping duplicate JobId:\", job_id)\n",
        "    print(\"Data updated for page:\", page_number)\n",
        "    page_number += 1\n",
        "    try:\n",
        "        next_button = wd.find_element(By.XPATH, \"//button[@class = 'nextButton job-search-opoz2d e13qs2072']\")\n",
        "        next_button.click()\n",
        "        time.sleep(3)\n",
        "        try:\n",
        "            x_button = wd.find_element(By.XPATH, \"//button[@class = 'e1jbctw80 ei0fd8p1 css-1n14mz9 e1q8sty40']\")\n",
        "            x_button.click()\n",
        "        except NoSuchElementException:\n",
        "            print(\"\")\n",
        "        glassdoor_scraper()\n",
        "    except NoSuchElementException:\n",
        "        cursor.close()\n",
        "        mydb.close()\n",
        "        wd.quit()\n",
        "glassdoor_scraper()"
      ],
      "metadata": {
        "id": "cw1vUvTWyNJf"
      },
      "execution_count": null,
      "outputs": []
    }
  ]
}